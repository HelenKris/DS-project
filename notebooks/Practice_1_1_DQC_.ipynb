{
  "nbformat": 4,
  "nbformat_minor": 0,
  "metadata": {
    "colab": {
      "provenance": []
    },
    "kernelspec": {
      "name": "python3",
      "display_name": "Python 3"
    },
    "language_info": {
      "name": "python"
    }
  },
  "cells": [
    {
      "cell_type": "code",
      "execution_count": null,
      "metadata": {
        "id": "75_35fGmbXUG"
      },
      "outputs": [],
      "source": []
    },
    {
      "cell_type": "markdown",
      "source": [
        "# **Predict Future Sales**"
      ],
      "metadata": {
        "id": "MD-7bm36s7FC"
      }
    },
    {
      "cell_type": "markdown",
      "source": [
        "# **Dataset Description**\n",
        "You are provided with daily historical sales data. The task is to forecast the total amount of products sold in every shop for the test set. Note that the list of shops and products slightly changes every month. Creating a robust model that can handle such situations is part of the challenge."
      ],
      "metadata": {
        "id": "vYUhEXBRszAx"
      }
    },
    {
      "cell_type": "markdown",
      "source": [
        "**File descriptions**\n",
        "\n",
        "**sales_train.csv** - the training set. Daily historical data from January 2013 to October 2015.\n",
        "\n",
        "**test.csv** - the test set. You need to forecast the sales for these shops and products for November 2015.\n",
        "\n",
        "**sample_submission.csv** - a sample submission file in the correct format.\n",
        "\n",
        "**items.csv** - supplemental information about the items/products.\n",
        "\n",
        "**item_categories.csv ** - supplemental information about the items categories.\n",
        "\n",
        "**shops.csv**- supplemental information about the shops.\n",
        "\n",
        "**Data fields**\n",
        "**ID** - an Id that represents a (Shop, Item) tuple within the test set\n",
        "\n",
        "**shop_id** - unique identifier of a shop\n",
        "\n",
        "**item_id** - unique identifier of a product\n",
        "\n",
        "**item_category_id** - unique identifier of item category\n",
        "\n",
        "**item_cnt_day** - number of products sold. You are predicting a monthly\n",
        "amount of this measure\n",
        "\n",
        "**item_price** - current price of an item\n",
        "\n",
        "**date** - date in format dd/mm/yyyy\n",
        "\n",
        "**date_block_num** - a consecutive month number, used for convenience. January 2013 is 0, February 2013 is 1,..., October 2015 is 33\n",
        "\n",
        "\n",
        "**item_name **- name of item\n",
        "\n",
        "**shop_name** - name of shop\n",
        "\n",
        "**item_category_name** - name of item category"
      ],
      "metadata": {
        "id": "vpoOyrS-slc0"
      }
    },
    {
      "cell_type": "code",
      "source": [
        "import numpy as np\n",
        "import pandas as pd\n",
        "import re\n",
        "import matplotlib.pyplot as plt\n",
        "import seaborn as sns\n",
        "pd.set_option('display.float_format', lambda x: '%.2f' % x)\n",
        "import warnings\n",
        "from scipy import stats\n",
        "warnings.simplefilter(action='ignore', category=FutureWarning)"
      ],
      "metadata": {
        "id": "p9AaPl0osEza"
      },
      "execution_count": 1,
      "outputs": []
    },
    {
      "cell_type": "markdown",
      "source": [
        "# **Data Loading**"
      ],
      "metadata": {
        "id": "7Vut_JpIL8OC"
      }
    },
    {
      "cell_type": "code",
      "source": [
        "from google.colab import drive\n",
        "drive.mount('/content/drive/')"
      ],
      "metadata": {
        "colab": {
          "base_uri": "https://localhost:8080/"
        },
        "id": "DSiwD0qFsTIZ",
        "outputId": "df99a4c7-921b-4b30-9cd6-e8b21b92a289"
      },
      "execution_count": 3,
      "outputs": [
        {
          "output_type": "stream",
          "name": "stdout",
          "text": [
            "Mounted at /content/drive/\n"
          ]
        }
      ]
    },
    {
      "cell_type": "markdown",
      "source": [
        "Let's explicitly indicate data types when loading in order to optimize memory usage, prevent errors, speed up data loading, and enhance code readability by making it more efficient and understandable for other developers."
      ],
      "metadata": {
        "id": "hXPZr7HjdT6f"
      }
    },
    {
      "cell_type": "code",
      "source": [
        "df_test = pd.read_csv('/content/drive/MyDrive/Predict Future Sales/test.csv', dtype={'ID': 'int32', 'shop_id': 'int32',\n",
        "                                                  'item_id': 'int32'})\n",
        "df_item_cat = pd.read_csv('/content/drive/MyDrive/Predict Future Sales/item_categories.csv',\n",
        "                              dtype={'item_category_name': 'str', 'item_category_id': 'int32'})\n",
        "df_items = pd.read_csv('/content/drive/MyDrive/Predict Future Sales/items.csv', dtype={'item_name': 'str', 'item_id': 'int32',\n",
        "                                                 'item_category_id': 'int32'})\n",
        "df_shops = pd.read_csv('/content/drive/MyDrive/Predict Future Sales/shops.csv', dtype={'shop_name': 'str', 'shop_id': 'int32'})\n",
        "sales_train = pd.read_csv('/content/drive/MyDrive/Predict Future Sales/sales_train.csv', parse_dates=['date'],\n",
        "                    dtype={'date': 'str', 'date_block_num': 'int32', 'shop_id': 'int32',\n",
        "                          'item_id': 'int32', 'item_price': 'float32', 'item_cnt_day': 'int32'})"
      ],
      "metadata": {
        "colab": {
          "base_uri": "https://localhost:8080/"
        },
        "id": "cF8lTkKwL1D7",
        "outputId": "92716163-3f9c-4271-a9d7-b0ed2c642393"
      },
      "execution_count": 4,
      "outputs": [
        {
          "output_type": "stream",
          "name": "stderr",
          "text": [
            "<ipython-input-4-616899ac076e>:8: UserWarning: Parsing dates in DD/MM/YYYY format when dayfirst=False (the default) was specified. This may lead to inconsistently parsed dates! Specify a format to ensure consistent parsing.\n",
            "  sales_train = pd.read_csv('/content/drive/MyDrive/Predict Future Sales/sales_train.csv', parse_dates=['date'],\n"
          ]
        }
      ]
    },
    {
      "cell_type": "markdown",
      "source": [
        "# **Data Quality Check (DQC)**"
      ],
      "metadata": {
        "id": "2jHpQP7vtXko"
      }
    },
    {
      "cell_type": "markdown",
      "source": [
        "*Let's conduct a Data Quality Check on the combined dataset, instead of checking all the tables separately.Combine datasets.*"
      ],
      "metadata": {
        "id": "wcmd2TE2pLb9"
      }
    },
    {
      "cell_type": "code",
      "source": [
        "# Let's write a function for sequential merging of datasets using a common column\n",
        "def sequential_left_merge(data, *datasets):\n",
        "    merged_data = data.copy()  # Create a copy of the original data to preserve it\n",
        "\n",
        "    # Define the common column for the first merge\n",
        "    common_column = None\n",
        "\n",
        "    # Iterate over each dataset\n",
        "    for df in datasets:\n",
        "        # Find the common column for merging\n",
        "        if common_column is None:\n",
        "            common_column = set(data.columns) & set(df.columns)\n",
        "        else:\n",
        "            common_column = list(set(merged_data.columns) & set(df.columns))\n",
        "\n",
        "        # Perform left merge\n",
        "        merged_data = pd.merge(merged_data, df, on=list(common_column), how='left')\n",
        "\n",
        "    return merged_data"
      ],
      "metadata": {
        "id": "4gC-Zt9OpKXk"
      },
      "execution_count": 5,
      "outputs": []
    },
    {
      "cell_type": "code",
      "source": [
        "# Perform the sequential left merge of train data\n",
        "merged_data = sequential_left_merge(sales_train, df_items, df_item_cat, df_shops)"
      ],
      "metadata": {
        "id": "JYC6iKpswty2"
      },
      "execution_count": 6,
      "outputs": []
    },
    {
      "cell_type": "code",
      "source": [
        "# Perform the sequential left merge of train data\n",
        "merged_data_test = sequential_left_merge(df_test, df_items, df_item_cat, df_shops)"
      ],
      "metadata": {
        "id": "sbQrUXgB0vJt"
      },
      "execution_count": 7,
      "outputs": []
    },
    {
      "cell_type": "markdown",
      "source": [
        "# **Quickly check the completeness of the data**"
      ],
      "metadata": {
        "id": "-rujC8_Mllyp"
      }
    },
    {
      "cell_type": "code",
      "source": [
        "# Data Quality Check (DQC)\n",
        "def data_quality_check(data):\n",
        "    try:\n",
        "        # Check for missing values\n",
        "        missing_values = data.isnull().sum()\n",
        "        print(\"Missing Values:\")\n",
        "        print(missing_values)\n",
        "\n",
        "        # Check for duplicates\n",
        "        duplicates = data.duplicated().sum()\n",
        "        print(\"\\nDuplicates:\")\n",
        "        print(duplicates)\n",
        "\n",
        "        # Check data types\n",
        "        data_types = data.dtypes\n",
        "        data['date'] = pd.to_datetime(data['date'], format='%d.%m.%Y')\n",
        "        print(\"\\nData Types:\")\n",
        "        print(data_types)\n",
        "\n",
        "    except KeyError:\n",
        "        print(\"Error: 'date' column not found in the DataFrame.\")\n",
        "\n",
        "# Perform Data Quality Check\n",
        "print(\"Data Quality Check 'merged_data':\")\n",
        "data_quality_check(merged_data)\n",
        "merged_data.describe()"
      ],
      "metadata": {
        "colab": {
          "base_uri": "https://localhost:8080/",
          "height": 804
        },
        "id": "rGB8INommNtQ",
        "outputId": "cadb7037-fed2-40e6-c052-a88144f4db79"
      },
      "execution_count": 8,
      "outputs": [
        {
          "output_type": "stream",
          "name": "stdout",
          "text": [
            "Data Quality Check 'merged_data':\n",
            "Missing Values:\n",
            "date                  0\n",
            "date_block_num        0\n",
            "shop_id               0\n",
            "item_id               0\n",
            "item_price            0\n",
            "item_cnt_day          0\n",
            "item_name             0\n",
            "item_category_id      0\n",
            "item_category_name    0\n",
            "shop_name             0\n",
            "dtype: int64\n",
            "\n",
            "Duplicates:\n",
            "6\n",
            "\n",
            "Data Types:\n",
            "date                  datetime64[ns]\n",
            "date_block_num                 int32\n",
            "shop_id                        int32\n",
            "item_id                        int32\n",
            "item_price                   float32\n",
            "item_cnt_day                   int32\n",
            "item_name                     object\n",
            "item_category_id               int32\n",
            "item_category_name            object\n",
            "shop_name                     object\n",
            "dtype: object\n"
          ]
        },
        {
          "output_type": "execute_result",
          "data": {
            "text/plain": [
              "       date_block_num    shop_id    item_id  item_price  item_cnt_day  \\\n",
              "count      2935849.00 2935849.00 2935849.00  2935849.00    2935849.00   \n",
              "mean            14.57      33.00   10197.23      890.85          1.24   \n",
              "std              9.42      16.23    6324.30     1729.80          2.62   \n",
              "min              0.00       0.00       0.00       -1.00        -22.00   \n",
              "25%              7.00      22.00    4476.00      249.00          1.00   \n",
              "50%             14.00      31.00    9343.00      399.00          1.00   \n",
              "75%             23.00      47.00   15684.00      999.00          1.00   \n",
              "max             33.00      59.00   22169.00   307980.00       2169.00   \n",
              "\n",
              "       item_category_id  \n",
              "count        2935849.00  \n",
              "mean              40.00  \n",
              "std               17.10  \n",
              "min                0.00  \n",
              "25%               28.00  \n",
              "50%               40.00  \n",
              "75%               55.00  \n",
              "max               83.00  "
            ],
            "text/html": [
              "\n",
              "  <div id=\"df-62622239-0fcd-4834-87fd-ba98815fe429\" class=\"colab-df-container\">\n",
              "    <div>\n",
              "<style scoped>\n",
              "    .dataframe tbody tr th:only-of-type {\n",
              "        vertical-align: middle;\n",
              "    }\n",
              "\n",
              "    .dataframe tbody tr th {\n",
              "        vertical-align: top;\n",
              "    }\n",
              "\n",
              "    .dataframe thead th {\n",
              "        text-align: right;\n",
              "    }\n",
              "</style>\n",
              "<table border=\"1\" class=\"dataframe\">\n",
              "  <thead>\n",
              "    <tr style=\"text-align: right;\">\n",
              "      <th></th>\n",
              "      <th>date_block_num</th>\n",
              "      <th>shop_id</th>\n",
              "      <th>item_id</th>\n",
              "      <th>item_price</th>\n",
              "      <th>item_cnt_day</th>\n",
              "      <th>item_category_id</th>\n",
              "    </tr>\n",
              "  </thead>\n",
              "  <tbody>\n",
              "    <tr>\n",
              "      <th>count</th>\n",
              "      <td>2935849.00</td>\n",
              "      <td>2935849.00</td>\n",
              "      <td>2935849.00</td>\n",
              "      <td>2935849.00</td>\n",
              "      <td>2935849.00</td>\n",
              "      <td>2935849.00</td>\n",
              "    </tr>\n",
              "    <tr>\n",
              "      <th>mean</th>\n",
              "      <td>14.57</td>\n",
              "      <td>33.00</td>\n",
              "      <td>10197.23</td>\n",
              "      <td>890.85</td>\n",
              "      <td>1.24</td>\n",
              "      <td>40.00</td>\n",
              "    </tr>\n",
              "    <tr>\n",
              "      <th>std</th>\n",
              "      <td>9.42</td>\n",
              "      <td>16.23</td>\n",
              "      <td>6324.30</td>\n",
              "      <td>1729.80</td>\n",
              "      <td>2.62</td>\n",
              "      <td>17.10</td>\n",
              "    </tr>\n",
              "    <tr>\n",
              "      <th>min</th>\n",
              "      <td>0.00</td>\n",
              "      <td>0.00</td>\n",
              "      <td>0.00</td>\n",
              "      <td>-1.00</td>\n",
              "      <td>-22.00</td>\n",
              "      <td>0.00</td>\n",
              "    </tr>\n",
              "    <tr>\n",
              "      <th>25%</th>\n",
              "      <td>7.00</td>\n",
              "      <td>22.00</td>\n",
              "      <td>4476.00</td>\n",
              "      <td>249.00</td>\n",
              "      <td>1.00</td>\n",
              "      <td>28.00</td>\n",
              "    </tr>\n",
              "    <tr>\n",
              "      <th>50%</th>\n",
              "      <td>14.00</td>\n",
              "      <td>31.00</td>\n",
              "      <td>9343.00</td>\n",
              "      <td>399.00</td>\n",
              "      <td>1.00</td>\n",
              "      <td>40.00</td>\n",
              "    </tr>\n",
              "    <tr>\n",
              "      <th>75%</th>\n",
              "      <td>23.00</td>\n",
              "      <td>47.00</td>\n",
              "      <td>15684.00</td>\n",
              "      <td>999.00</td>\n",
              "      <td>1.00</td>\n",
              "      <td>55.00</td>\n",
              "    </tr>\n",
              "    <tr>\n",
              "      <th>max</th>\n",
              "      <td>33.00</td>\n",
              "      <td>59.00</td>\n",
              "      <td>22169.00</td>\n",
              "      <td>307980.00</td>\n",
              "      <td>2169.00</td>\n",
              "      <td>83.00</td>\n",
              "    </tr>\n",
              "  </tbody>\n",
              "</table>\n",
              "</div>\n",
              "    <div class=\"colab-df-buttons\">\n",
              "\n",
              "  <div class=\"colab-df-container\">\n",
              "    <button class=\"colab-df-convert\" onclick=\"convertToInteractive('df-62622239-0fcd-4834-87fd-ba98815fe429')\"\n",
              "            title=\"Convert this dataframe to an interactive table.\"\n",
              "            style=\"display:none;\">\n",
              "\n",
              "  <svg xmlns=\"http://www.w3.org/2000/svg\" height=\"24px\" viewBox=\"0 -960 960 960\">\n",
              "    <path d=\"M120-120v-720h720v720H120Zm60-500h600v-160H180v160Zm220 220h160v-160H400v160Zm0 220h160v-160H400v160ZM180-400h160v-160H180v160Zm440 0h160v-160H620v160ZM180-180h160v-160H180v160Zm440 0h160v-160H620v160Z\"/>\n",
              "  </svg>\n",
              "    </button>\n",
              "\n",
              "  <style>\n",
              "    .colab-df-container {\n",
              "      display:flex;\n",
              "      gap: 12px;\n",
              "    }\n",
              "\n",
              "    .colab-df-convert {\n",
              "      background-color: #E8F0FE;\n",
              "      border: none;\n",
              "      border-radius: 50%;\n",
              "      cursor: pointer;\n",
              "      display: none;\n",
              "      fill: #1967D2;\n",
              "      height: 32px;\n",
              "      padding: 0 0 0 0;\n",
              "      width: 32px;\n",
              "    }\n",
              "\n",
              "    .colab-df-convert:hover {\n",
              "      background-color: #E2EBFA;\n",
              "      box-shadow: 0px 1px 2px rgba(60, 64, 67, 0.3), 0px 1px 3px 1px rgba(60, 64, 67, 0.15);\n",
              "      fill: #174EA6;\n",
              "    }\n",
              "\n",
              "    .colab-df-buttons div {\n",
              "      margin-bottom: 4px;\n",
              "    }\n",
              "\n",
              "    [theme=dark] .colab-df-convert {\n",
              "      background-color: #3B4455;\n",
              "      fill: #D2E3FC;\n",
              "    }\n",
              "\n",
              "    [theme=dark] .colab-df-convert:hover {\n",
              "      background-color: #434B5C;\n",
              "      box-shadow: 0px 1px 3px 1px rgba(0, 0, 0, 0.15);\n",
              "      filter: drop-shadow(0px 1px 2px rgba(0, 0, 0, 0.3));\n",
              "      fill: #FFFFFF;\n",
              "    }\n",
              "  </style>\n",
              "\n",
              "    <script>\n",
              "      const buttonEl =\n",
              "        document.querySelector('#df-62622239-0fcd-4834-87fd-ba98815fe429 button.colab-df-convert');\n",
              "      buttonEl.style.display =\n",
              "        google.colab.kernel.accessAllowed ? 'block' : 'none';\n",
              "\n",
              "      async function convertToInteractive(key) {\n",
              "        const element = document.querySelector('#df-62622239-0fcd-4834-87fd-ba98815fe429');\n",
              "        const dataTable =\n",
              "          await google.colab.kernel.invokeFunction('convertToInteractive',\n",
              "                                                    [key], {});\n",
              "        if (!dataTable) return;\n",
              "\n",
              "        const docLinkHtml = 'Like what you see? Visit the ' +\n",
              "          '<a target=\"_blank\" href=https://colab.research.google.com/notebooks/data_table.ipynb>data table notebook</a>'\n",
              "          + ' to learn more about interactive tables.';\n",
              "        element.innerHTML = '';\n",
              "        dataTable['output_type'] = 'display_data';\n",
              "        await google.colab.output.renderOutput(dataTable, element);\n",
              "        const docLink = document.createElement('div');\n",
              "        docLink.innerHTML = docLinkHtml;\n",
              "        element.appendChild(docLink);\n",
              "      }\n",
              "    </script>\n",
              "  </div>\n",
              "\n",
              "\n",
              "<div id=\"df-73e9586d-180d-4ace-9a02-7b0decbbfb4c\">\n",
              "  <button class=\"colab-df-quickchart\" onclick=\"quickchart('df-73e9586d-180d-4ace-9a02-7b0decbbfb4c')\"\n",
              "            title=\"Suggest charts\"\n",
              "            style=\"display:none;\">\n",
              "\n",
              "<svg xmlns=\"http://www.w3.org/2000/svg\" height=\"24px\"viewBox=\"0 0 24 24\"\n",
              "     width=\"24px\">\n",
              "    <g>\n",
              "        <path d=\"M19 3H5c-1.1 0-2 .9-2 2v14c0 1.1.9 2 2 2h14c1.1 0 2-.9 2-2V5c0-1.1-.9-2-2-2zM9 17H7v-7h2v7zm4 0h-2V7h2v10zm4 0h-2v-4h2v4z\"/>\n",
              "    </g>\n",
              "</svg>\n",
              "  </button>\n",
              "\n",
              "<style>\n",
              "  .colab-df-quickchart {\n",
              "      --bg-color: #E8F0FE;\n",
              "      --fill-color: #1967D2;\n",
              "      --hover-bg-color: #E2EBFA;\n",
              "      --hover-fill-color: #174EA6;\n",
              "      --disabled-fill-color: #AAA;\n",
              "      --disabled-bg-color: #DDD;\n",
              "  }\n",
              "\n",
              "  [theme=dark] .colab-df-quickchart {\n",
              "      --bg-color: #3B4455;\n",
              "      --fill-color: #D2E3FC;\n",
              "      --hover-bg-color: #434B5C;\n",
              "      --hover-fill-color: #FFFFFF;\n",
              "      --disabled-bg-color: #3B4455;\n",
              "      --disabled-fill-color: #666;\n",
              "  }\n",
              "\n",
              "  .colab-df-quickchart {\n",
              "    background-color: var(--bg-color);\n",
              "    border: none;\n",
              "    border-radius: 50%;\n",
              "    cursor: pointer;\n",
              "    display: none;\n",
              "    fill: var(--fill-color);\n",
              "    height: 32px;\n",
              "    padding: 0;\n",
              "    width: 32px;\n",
              "  }\n",
              "\n",
              "  .colab-df-quickchart:hover {\n",
              "    background-color: var(--hover-bg-color);\n",
              "    box-shadow: 0 1px 2px rgba(60, 64, 67, 0.3), 0 1px 3px 1px rgba(60, 64, 67, 0.15);\n",
              "    fill: var(--button-hover-fill-color);\n",
              "  }\n",
              "\n",
              "  .colab-df-quickchart-complete:disabled,\n",
              "  .colab-df-quickchart-complete:disabled:hover {\n",
              "    background-color: var(--disabled-bg-color);\n",
              "    fill: var(--disabled-fill-color);\n",
              "    box-shadow: none;\n",
              "  }\n",
              "\n",
              "  .colab-df-spinner {\n",
              "    border: 2px solid var(--fill-color);\n",
              "    border-color: transparent;\n",
              "    border-bottom-color: var(--fill-color);\n",
              "    animation:\n",
              "      spin 1s steps(1) infinite;\n",
              "  }\n",
              "\n",
              "  @keyframes spin {\n",
              "    0% {\n",
              "      border-color: transparent;\n",
              "      border-bottom-color: var(--fill-color);\n",
              "      border-left-color: var(--fill-color);\n",
              "    }\n",
              "    20% {\n",
              "      border-color: transparent;\n",
              "      border-left-color: var(--fill-color);\n",
              "      border-top-color: var(--fill-color);\n",
              "    }\n",
              "    30% {\n",
              "      border-color: transparent;\n",
              "      border-left-color: var(--fill-color);\n",
              "      border-top-color: var(--fill-color);\n",
              "      border-right-color: var(--fill-color);\n",
              "    }\n",
              "    40% {\n",
              "      border-color: transparent;\n",
              "      border-right-color: var(--fill-color);\n",
              "      border-top-color: var(--fill-color);\n",
              "    }\n",
              "    60% {\n",
              "      border-color: transparent;\n",
              "      border-right-color: var(--fill-color);\n",
              "    }\n",
              "    80% {\n",
              "      border-color: transparent;\n",
              "      border-right-color: var(--fill-color);\n",
              "      border-bottom-color: var(--fill-color);\n",
              "    }\n",
              "    90% {\n",
              "      border-color: transparent;\n",
              "      border-bottom-color: var(--fill-color);\n",
              "    }\n",
              "  }\n",
              "</style>\n",
              "\n",
              "  <script>\n",
              "    async function quickchart(key) {\n",
              "      const quickchartButtonEl =\n",
              "        document.querySelector('#' + key + ' button');\n",
              "      quickchartButtonEl.disabled = true;  // To prevent multiple clicks.\n",
              "      quickchartButtonEl.classList.add('colab-df-spinner');\n",
              "      try {\n",
              "        const charts = await google.colab.kernel.invokeFunction(\n",
              "            'suggestCharts', [key], {});\n",
              "      } catch (error) {\n",
              "        console.error('Error during call to suggestCharts:', error);\n",
              "      }\n",
              "      quickchartButtonEl.classList.remove('colab-df-spinner');\n",
              "      quickchartButtonEl.classList.add('colab-df-quickchart-complete');\n",
              "    }\n",
              "    (() => {\n",
              "      let quickchartButtonEl =\n",
              "        document.querySelector('#df-73e9586d-180d-4ace-9a02-7b0decbbfb4c button');\n",
              "      quickchartButtonEl.style.display =\n",
              "        google.colab.kernel.accessAllowed ? 'block' : 'none';\n",
              "    })();\n",
              "  </script>\n",
              "</div>\n",
              "    </div>\n",
              "  </div>\n"
            ],
            "application/vnd.google.colaboratory.intrinsic+json": {
              "type": "dataframe",
              "summary": "{\n  \"name\": \"merged_data\",\n  \"rows\": 8,\n  \"fields\": [\n    {\n      \"column\": \"date_block_num\",\n      \"properties\": {\n        \"dtype\": \"number\",\n        \"std\": 1037974.2673568203,\n        \"min\": 0.0,\n        \"max\": 2935849.0,\n        \"num_unique_values\": 8,\n        \"samples\": [\n          14.56991146343017,\n          14.0,\n          2935849.0\n        ],\n        \"semantic_type\": \"\",\n        \"description\": \"\"\n      }\n    },\n    {\n      \"column\": \"shop_id\",\n      \"properties\": {\n        \"dtype\": \"number\",\n        \"std\": 1037968.8512400592,\n        \"min\": 0.0,\n        \"max\": 2935849.0,\n        \"num_unique_values\": 8,\n        \"samples\": [\n          33.001728290521754,\n          31.0,\n          2935849.0\n        ],\n        \"semantic_type\": \"\",\n        \"description\": \"\"\n      }\n    },\n    {\n      \"column\": \"item_id\",\n      \"properties\": {\n        \"dtype\": \"number\",\n        \"std\": 1034557.4743104326,\n        \"min\": 0.0,\n        \"max\": 2935849.0,\n        \"num_unique_values\": 8,\n        \"samples\": [\n          10197.227056977385,\n          9343.0,\n          2935849.0\n        ],\n        \"semantic_type\": \"\",\n        \"description\": \"\"\n      }\n    },\n    {\n      \"column\": \"item_price\",\n      \"properties\": {\n        \"dtype\": \"number\",\n        \"std\": 1027847.9852125528,\n        \"min\": -1.0,\n        \"max\": 2935849.0,\n        \"num_unique_values\": 8,\n        \"samples\": [\n          890.8532104492188,\n          399.0,\n          2935849.0\n        ],\n        \"semantic_type\": \"\",\n        \"description\": \"\"\n      }\n    },\n    {\n      \"column\": \"item_cnt_day\",\n      \"properties\": {\n        \"dtype\": \"number\",\n        \"std\": 1037870.8599891799,\n        \"min\": -22.0,\n        \"max\": 2935849.0,\n        \"num_unique_values\": 6,\n        \"samples\": [\n          2935849.0,\n          1.242640885140891,\n          2169.0\n        ],\n        \"semantic_type\": \"\",\n        \"description\": \"\"\n      }\n    },\n    {\n      \"column\": \"item_category_id\",\n      \"properties\": {\n        \"dtype\": \"number\",\n        \"std\": 1037966.0798510062,\n        \"min\": 0.0,\n        \"max\": 2935849.0,\n        \"num_unique_values\": 8,\n        \"samples\": [\n          40.00138290491098,\n          40.0,\n          2935849.0\n        ],\n        \"semantic_type\": \"\",\n        \"description\": \"\"\n      }\n    }\n  ]\n}"
            }
          },
          "metadata": {},
          "execution_count": 8
        }
      ]
    },
    {
      "cell_type": "code",
      "source": [
        "print(\"Data Quality Check 'merged_data_test':\")\n",
        "data_quality_check(merged_data_test)\n",
        "merged_data.describe()"
      ],
      "metadata": {
        "colab": {
          "base_uri": "https://localhost:8080/",
          "height": 543
        },
        "id": "a1H90vmzl8qE",
        "outputId": "4dd5bd61-c85f-46a7-a9a4-ee83bae96a21"
      },
      "execution_count": 9,
      "outputs": [
        {
          "output_type": "stream",
          "name": "stdout",
          "text": [
            "Data Quality Check 'merged_data_test':\n",
            "Missing Values:\n",
            "ID                    0\n",
            "shop_id               0\n",
            "item_id               0\n",
            "item_name             0\n",
            "item_category_id      0\n",
            "item_category_name    0\n",
            "shop_name             0\n",
            "dtype: int64\n",
            "\n",
            "Duplicates:\n",
            "0\n",
            "Error: 'date' column not found in the DataFrame.\n"
          ]
        },
        {
          "output_type": "execute_result",
          "data": {
            "text/plain": [
              "       date_block_num    shop_id    item_id  item_price  item_cnt_day  \\\n",
              "count      2935849.00 2935849.00 2935849.00  2935849.00    2935849.00   \n",
              "mean            14.57      33.00   10197.23      890.85          1.24   \n",
              "std              9.42      16.23    6324.30     1729.80          2.62   \n",
              "min              0.00       0.00       0.00       -1.00        -22.00   \n",
              "25%              7.00      22.00    4476.00      249.00          1.00   \n",
              "50%             14.00      31.00    9343.00      399.00          1.00   \n",
              "75%             23.00      47.00   15684.00      999.00          1.00   \n",
              "max             33.00      59.00   22169.00   307980.00       2169.00   \n",
              "\n",
              "       item_category_id  \n",
              "count        2935849.00  \n",
              "mean              40.00  \n",
              "std               17.10  \n",
              "min                0.00  \n",
              "25%               28.00  \n",
              "50%               40.00  \n",
              "75%               55.00  \n",
              "max               83.00  "
            ],
            "text/html": [
              "\n",
              "  <div id=\"df-2a06f803-b7ac-489c-ac2a-993fcbf0004e\" class=\"colab-df-container\">\n",
              "    <div>\n",
              "<style scoped>\n",
              "    .dataframe tbody tr th:only-of-type {\n",
              "        vertical-align: middle;\n",
              "    }\n",
              "\n",
              "    .dataframe tbody tr th {\n",
              "        vertical-align: top;\n",
              "    }\n",
              "\n",
              "    .dataframe thead th {\n",
              "        text-align: right;\n",
              "    }\n",
              "</style>\n",
              "<table border=\"1\" class=\"dataframe\">\n",
              "  <thead>\n",
              "    <tr style=\"text-align: right;\">\n",
              "      <th></th>\n",
              "      <th>date_block_num</th>\n",
              "      <th>shop_id</th>\n",
              "      <th>item_id</th>\n",
              "      <th>item_price</th>\n",
              "      <th>item_cnt_day</th>\n",
              "      <th>item_category_id</th>\n",
              "    </tr>\n",
              "  </thead>\n",
              "  <tbody>\n",
              "    <tr>\n",
              "      <th>count</th>\n",
              "      <td>2935849.00</td>\n",
              "      <td>2935849.00</td>\n",
              "      <td>2935849.00</td>\n",
              "      <td>2935849.00</td>\n",
              "      <td>2935849.00</td>\n",
              "      <td>2935849.00</td>\n",
              "    </tr>\n",
              "    <tr>\n",
              "      <th>mean</th>\n",
              "      <td>14.57</td>\n",
              "      <td>33.00</td>\n",
              "      <td>10197.23</td>\n",
              "      <td>890.85</td>\n",
              "      <td>1.24</td>\n",
              "      <td>40.00</td>\n",
              "    </tr>\n",
              "    <tr>\n",
              "      <th>std</th>\n",
              "      <td>9.42</td>\n",
              "      <td>16.23</td>\n",
              "      <td>6324.30</td>\n",
              "      <td>1729.80</td>\n",
              "      <td>2.62</td>\n",
              "      <td>17.10</td>\n",
              "    </tr>\n",
              "    <tr>\n",
              "      <th>min</th>\n",
              "      <td>0.00</td>\n",
              "      <td>0.00</td>\n",
              "      <td>0.00</td>\n",
              "      <td>-1.00</td>\n",
              "      <td>-22.00</td>\n",
              "      <td>0.00</td>\n",
              "    </tr>\n",
              "    <tr>\n",
              "      <th>25%</th>\n",
              "      <td>7.00</td>\n",
              "      <td>22.00</td>\n",
              "      <td>4476.00</td>\n",
              "      <td>249.00</td>\n",
              "      <td>1.00</td>\n",
              "      <td>28.00</td>\n",
              "    </tr>\n",
              "    <tr>\n",
              "      <th>50%</th>\n",
              "      <td>14.00</td>\n",
              "      <td>31.00</td>\n",
              "      <td>9343.00</td>\n",
              "      <td>399.00</td>\n",
              "      <td>1.00</td>\n",
              "      <td>40.00</td>\n",
              "    </tr>\n",
              "    <tr>\n",
              "      <th>75%</th>\n",
              "      <td>23.00</td>\n",
              "      <td>47.00</td>\n",
              "      <td>15684.00</td>\n",
              "      <td>999.00</td>\n",
              "      <td>1.00</td>\n",
              "      <td>55.00</td>\n",
              "    </tr>\n",
              "    <tr>\n",
              "      <th>max</th>\n",
              "      <td>33.00</td>\n",
              "      <td>59.00</td>\n",
              "      <td>22169.00</td>\n",
              "      <td>307980.00</td>\n",
              "      <td>2169.00</td>\n",
              "      <td>83.00</td>\n",
              "    </tr>\n",
              "  </tbody>\n",
              "</table>\n",
              "</div>\n",
              "    <div class=\"colab-df-buttons\">\n",
              "\n",
              "  <div class=\"colab-df-container\">\n",
              "    <button class=\"colab-df-convert\" onclick=\"convertToInteractive('df-2a06f803-b7ac-489c-ac2a-993fcbf0004e')\"\n",
              "            title=\"Convert this dataframe to an interactive table.\"\n",
              "            style=\"display:none;\">\n",
              "\n",
              "  <svg xmlns=\"http://www.w3.org/2000/svg\" height=\"24px\" viewBox=\"0 -960 960 960\">\n",
              "    <path d=\"M120-120v-720h720v720H120Zm60-500h600v-160H180v160Zm220 220h160v-160H400v160Zm0 220h160v-160H400v160ZM180-400h160v-160H180v160Zm440 0h160v-160H620v160ZM180-180h160v-160H180v160Zm440 0h160v-160H620v160Z\"/>\n",
              "  </svg>\n",
              "    </button>\n",
              "\n",
              "  <style>\n",
              "    .colab-df-container {\n",
              "      display:flex;\n",
              "      gap: 12px;\n",
              "    }\n",
              "\n",
              "    .colab-df-convert {\n",
              "      background-color: #E8F0FE;\n",
              "      border: none;\n",
              "      border-radius: 50%;\n",
              "      cursor: pointer;\n",
              "      display: none;\n",
              "      fill: #1967D2;\n",
              "      height: 32px;\n",
              "      padding: 0 0 0 0;\n",
              "      width: 32px;\n",
              "    }\n",
              "\n",
              "    .colab-df-convert:hover {\n",
              "      background-color: #E2EBFA;\n",
              "      box-shadow: 0px 1px 2px rgba(60, 64, 67, 0.3), 0px 1px 3px 1px rgba(60, 64, 67, 0.15);\n",
              "      fill: #174EA6;\n",
              "    }\n",
              "\n",
              "    .colab-df-buttons div {\n",
              "      margin-bottom: 4px;\n",
              "    }\n",
              "\n",
              "    [theme=dark] .colab-df-convert {\n",
              "      background-color: #3B4455;\n",
              "      fill: #D2E3FC;\n",
              "    }\n",
              "\n",
              "    [theme=dark] .colab-df-convert:hover {\n",
              "      background-color: #434B5C;\n",
              "      box-shadow: 0px 1px 3px 1px rgba(0, 0, 0, 0.15);\n",
              "      filter: drop-shadow(0px 1px 2px rgba(0, 0, 0, 0.3));\n",
              "      fill: #FFFFFF;\n",
              "    }\n",
              "  </style>\n",
              "\n",
              "    <script>\n",
              "      const buttonEl =\n",
              "        document.querySelector('#df-2a06f803-b7ac-489c-ac2a-993fcbf0004e button.colab-df-convert');\n",
              "      buttonEl.style.display =\n",
              "        google.colab.kernel.accessAllowed ? 'block' : 'none';\n",
              "\n",
              "      async function convertToInteractive(key) {\n",
              "        const element = document.querySelector('#df-2a06f803-b7ac-489c-ac2a-993fcbf0004e');\n",
              "        const dataTable =\n",
              "          await google.colab.kernel.invokeFunction('convertToInteractive',\n",
              "                                                    [key], {});\n",
              "        if (!dataTable) return;\n",
              "\n",
              "        const docLinkHtml = 'Like what you see? Visit the ' +\n",
              "          '<a target=\"_blank\" href=https://colab.research.google.com/notebooks/data_table.ipynb>data table notebook</a>'\n",
              "          + ' to learn more about interactive tables.';\n",
              "        element.innerHTML = '';\n",
              "        dataTable['output_type'] = 'display_data';\n",
              "        await google.colab.output.renderOutput(dataTable, element);\n",
              "        const docLink = document.createElement('div');\n",
              "        docLink.innerHTML = docLinkHtml;\n",
              "        element.appendChild(docLink);\n",
              "      }\n",
              "    </script>\n",
              "  </div>\n",
              "\n",
              "\n",
              "<div id=\"df-9cfe5f58-c3e7-4456-9715-739dadac4a0a\">\n",
              "  <button class=\"colab-df-quickchart\" onclick=\"quickchart('df-9cfe5f58-c3e7-4456-9715-739dadac4a0a')\"\n",
              "            title=\"Suggest charts\"\n",
              "            style=\"display:none;\">\n",
              "\n",
              "<svg xmlns=\"http://www.w3.org/2000/svg\" height=\"24px\"viewBox=\"0 0 24 24\"\n",
              "     width=\"24px\">\n",
              "    <g>\n",
              "        <path d=\"M19 3H5c-1.1 0-2 .9-2 2v14c0 1.1.9 2 2 2h14c1.1 0 2-.9 2-2V5c0-1.1-.9-2-2-2zM9 17H7v-7h2v7zm4 0h-2V7h2v10zm4 0h-2v-4h2v4z\"/>\n",
              "    </g>\n",
              "</svg>\n",
              "  </button>\n",
              "\n",
              "<style>\n",
              "  .colab-df-quickchart {\n",
              "      --bg-color: #E8F0FE;\n",
              "      --fill-color: #1967D2;\n",
              "      --hover-bg-color: #E2EBFA;\n",
              "      --hover-fill-color: #174EA6;\n",
              "      --disabled-fill-color: #AAA;\n",
              "      --disabled-bg-color: #DDD;\n",
              "  }\n",
              "\n",
              "  [theme=dark] .colab-df-quickchart {\n",
              "      --bg-color: #3B4455;\n",
              "      --fill-color: #D2E3FC;\n",
              "      --hover-bg-color: #434B5C;\n",
              "      --hover-fill-color: #FFFFFF;\n",
              "      --disabled-bg-color: #3B4455;\n",
              "      --disabled-fill-color: #666;\n",
              "  }\n",
              "\n",
              "  .colab-df-quickchart {\n",
              "    background-color: var(--bg-color);\n",
              "    border: none;\n",
              "    border-radius: 50%;\n",
              "    cursor: pointer;\n",
              "    display: none;\n",
              "    fill: var(--fill-color);\n",
              "    height: 32px;\n",
              "    padding: 0;\n",
              "    width: 32px;\n",
              "  }\n",
              "\n",
              "  .colab-df-quickchart:hover {\n",
              "    background-color: var(--hover-bg-color);\n",
              "    box-shadow: 0 1px 2px rgba(60, 64, 67, 0.3), 0 1px 3px 1px rgba(60, 64, 67, 0.15);\n",
              "    fill: var(--button-hover-fill-color);\n",
              "  }\n",
              "\n",
              "  .colab-df-quickchart-complete:disabled,\n",
              "  .colab-df-quickchart-complete:disabled:hover {\n",
              "    background-color: var(--disabled-bg-color);\n",
              "    fill: var(--disabled-fill-color);\n",
              "    box-shadow: none;\n",
              "  }\n",
              "\n",
              "  .colab-df-spinner {\n",
              "    border: 2px solid var(--fill-color);\n",
              "    border-color: transparent;\n",
              "    border-bottom-color: var(--fill-color);\n",
              "    animation:\n",
              "      spin 1s steps(1) infinite;\n",
              "  }\n",
              "\n",
              "  @keyframes spin {\n",
              "    0% {\n",
              "      border-color: transparent;\n",
              "      border-bottom-color: var(--fill-color);\n",
              "      border-left-color: var(--fill-color);\n",
              "    }\n",
              "    20% {\n",
              "      border-color: transparent;\n",
              "      border-left-color: var(--fill-color);\n",
              "      border-top-color: var(--fill-color);\n",
              "    }\n",
              "    30% {\n",
              "      border-color: transparent;\n",
              "      border-left-color: var(--fill-color);\n",
              "      border-top-color: var(--fill-color);\n",
              "      border-right-color: var(--fill-color);\n",
              "    }\n",
              "    40% {\n",
              "      border-color: transparent;\n",
              "      border-right-color: var(--fill-color);\n",
              "      border-top-color: var(--fill-color);\n",
              "    }\n",
              "    60% {\n",
              "      border-color: transparent;\n",
              "      border-right-color: var(--fill-color);\n",
              "    }\n",
              "    80% {\n",
              "      border-color: transparent;\n",
              "      border-right-color: var(--fill-color);\n",
              "      border-bottom-color: var(--fill-color);\n",
              "    }\n",
              "    90% {\n",
              "      border-color: transparent;\n",
              "      border-bottom-color: var(--fill-color);\n",
              "    }\n",
              "  }\n",
              "</style>\n",
              "\n",
              "  <script>\n",
              "    async function quickchart(key) {\n",
              "      const quickchartButtonEl =\n",
              "        document.querySelector('#' + key + ' button');\n",
              "      quickchartButtonEl.disabled = true;  // To prevent multiple clicks.\n",
              "      quickchartButtonEl.classList.add('colab-df-spinner');\n",
              "      try {\n",
              "        const charts = await google.colab.kernel.invokeFunction(\n",
              "            'suggestCharts', [key], {});\n",
              "      } catch (error) {\n",
              "        console.error('Error during call to suggestCharts:', error);\n",
              "      }\n",
              "      quickchartButtonEl.classList.remove('colab-df-spinner');\n",
              "      quickchartButtonEl.classList.add('colab-df-quickchart-complete');\n",
              "    }\n",
              "    (() => {\n",
              "      let quickchartButtonEl =\n",
              "        document.querySelector('#df-9cfe5f58-c3e7-4456-9715-739dadac4a0a button');\n",
              "      quickchartButtonEl.style.display =\n",
              "        google.colab.kernel.accessAllowed ? 'block' : 'none';\n",
              "    })();\n",
              "  </script>\n",
              "</div>\n",
              "    </div>\n",
              "  </div>\n"
            ],
            "application/vnd.google.colaboratory.intrinsic+json": {
              "type": "dataframe",
              "summary": "{\n  \"name\": \"merged_data\",\n  \"rows\": 8,\n  \"fields\": [\n    {\n      \"column\": \"date_block_num\",\n      \"properties\": {\n        \"dtype\": \"number\",\n        \"std\": 1037974.2673568203,\n        \"min\": 0.0,\n        \"max\": 2935849.0,\n        \"num_unique_values\": 8,\n        \"samples\": [\n          14.56991146343017,\n          14.0,\n          2935849.0\n        ],\n        \"semantic_type\": \"\",\n        \"description\": \"\"\n      }\n    },\n    {\n      \"column\": \"shop_id\",\n      \"properties\": {\n        \"dtype\": \"number\",\n        \"std\": 1037968.8512400592,\n        \"min\": 0.0,\n        \"max\": 2935849.0,\n        \"num_unique_values\": 8,\n        \"samples\": [\n          33.001728290521754,\n          31.0,\n          2935849.0\n        ],\n        \"semantic_type\": \"\",\n        \"description\": \"\"\n      }\n    },\n    {\n      \"column\": \"item_id\",\n      \"properties\": {\n        \"dtype\": \"number\",\n        \"std\": 1034557.4743104326,\n        \"min\": 0.0,\n        \"max\": 2935849.0,\n        \"num_unique_values\": 8,\n        \"samples\": [\n          10197.227056977385,\n          9343.0,\n          2935849.0\n        ],\n        \"semantic_type\": \"\",\n        \"description\": \"\"\n      }\n    },\n    {\n      \"column\": \"item_price\",\n      \"properties\": {\n        \"dtype\": \"number\",\n        \"std\": 1027847.9852125528,\n        \"min\": -1.0,\n        \"max\": 2935849.0,\n        \"num_unique_values\": 8,\n        \"samples\": [\n          890.8532104492188,\n          399.0,\n          2935849.0\n        ],\n        \"semantic_type\": \"\",\n        \"description\": \"\"\n      }\n    },\n    {\n      \"column\": \"item_cnt_day\",\n      \"properties\": {\n        \"dtype\": \"number\",\n        \"std\": 1037870.8599891799,\n        \"min\": -22.0,\n        \"max\": 2935849.0,\n        \"num_unique_values\": 6,\n        \"samples\": [\n          2935849.0,\n          1.242640885140891,\n          2169.0\n        ],\n        \"semantic_type\": \"\",\n        \"description\": \"\"\n      }\n    },\n    {\n      \"column\": \"item_category_id\",\n      \"properties\": {\n        \"dtype\": \"number\",\n        \"std\": 1037966.0798510062,\n        \"min\": 0.0,\n        \"max\": 2935849.0,\n        \"num_unique_values\": 8,\n        \"samples\": [\n          40.00138290491098,\n          40.0,\n          2935849.0\n        ],\n        \"semantic_type\": \"\",\n        \"description\": \"\"\n      }\n    }\n  ]\n}"
            }
          },
          "metadata": {},
          "execution_count": 9
        }
      ]
    },
    {
      "cell_type": "markdown",
      "source": [
        "# **Duplicates**\n",
        "Let's remove duplicates. By duplicates we mean positions in which the column values ​​are the same ['date','date_block_num','shop_id','item_id','item_price','item_cnt_day']"
      ],
      "metadata": {
        "id": "iayhB3r50NCm"
      }
    },
    {
      "cell_type": "code",
      "source": [
        "df = merged_data.copy()"
      ],
      "metadata": {
        "id": "XWCeQl7l1yqk"
      },
      "execution_count": 86,
      "outputs": []
    },
    {
      "cell_type": "code",
      "source": [
        "def drop_duplicate(data, subset):\n",
        "    \"\"\"\n",
        "    Remove duplicate rows from the DataFrame based on the specified subset of columns.\n",
        "\n",
        "    Parameters:\n",
        "    - data: pandas.DataFrame, the DataFrame to remove duplicates from.\n",
        "    - subset: list of str, the subset of columns to consider when identifying duplicates.\n",
        "\n",
        "    Returns:\n",
        "    - dup_filted_df: pandas.DataFrame, the DataFrame without duplicate rows.\n",
        "    \"\"\"\n",
        "    dup_filted_df = data.copy()\n",
        "    print('Before drop shape:', dup_filted_df.shape)\n",
        "    before = dup_filted_df.shape[0]\n",
        "    dup_filted_df.drop_duplicates(subset=subset, keep='first', inplace=True)\n",
        "    dup_filted_df.reset_index(drop=True, inplace=True)\n",
        "    print('After drop shape:', dup_filted_df.shape)\n",
        "    after = dup_filted_df.shape[0]\n",
        "    print('Total Duplicate:', before - after)\n",
        "\n",
        "    return dup_filted_df\n",
        "\n",
        "subset = ['date', 'shop_id', 'item_id', 'item_price']\n",
        "dup_filted_df_result = drop_duplicate(df, subset=subset)"
      ],
      "metadata": {
        "colab": {
          "base_uri": "https://localhost:8080/"
        },
        "id": "CsYj8aEz1xP1",
        "outputId": "89f13aec-7cb9-4b83-cdf1-a0463b721c3a"
      },
      "execution_count": 89,
      "outputs": [
        {
          "output_type": "stream",
          "name": "stdout",
          "text": [
            "Before drop shape: (2935825, 11)\n",
            "After drop shape: (2935825, 11)\n",
            "Total Duplicate: 0\n"
          ]
        }
      ]
    },
    {
      "cell_type": "markdown",
      "source": [
        "# **Analyze the completeness**\n",
        "Let's analyze the completeness of the training dataset and testing dataset in both directions to find out which positions ('shop_id', 'item_id', 'item_category_id') are present in the test dataset but not in the training dataset and vice versa."
      ],
      "metadata": {
        "id": "fkvjhRb1oYyc"
      }
    },
    {
      "cell_type": "code",
      "source": [
        "# Let's create a column for fixing the store-product couplings we need\n",
        "merged_data_test['shop_item_id'] = merged_data_test.apply(lambda row: str(row['shop_id']) + '-' + str(row['item_id']), axis=1)\n",
        "merged_data['shop_item_id'] = merged_data.apply(lambda row: str(row['shop_id']) + '-' + str(row['item_id']), axis=1)"
      ],
      "metadata": {
        "id": "CxeNb_Mv5gJ7"
      },
      "execution_count": 10,
      "outputs": []
    },
    {
      "cell_type": "code",
      "source": [
        "def check_completeness(train, test, columns=['shop_id', 'item_id', 'item_category_id', 'shop_item_id']):\n",
        "    \"\"\"\n",
        "    Check the completeness of specified columns between train and test datasets.\n",
        "\n",
        "    Args:\n",
        "        train (DataFrame): The training dataset.\n",
        "        test (DataFrame): The testing dataset.\n",
        "        columns (list, optional): List of column names to check completeness. Default is ['shop_id', 'item_id', 'item_category_id', 'shop_item_id'].\n",
        "\n",
        "    Returns:\n",
        "        list: A list of formatted strings presenting completeness analysis results for each specified column.\n",
        "    \"\"\"\n",
        "    completeness_results = {}\n",
        "\n",
        "    for col in columns:\n",
        "        train_values = set(train[col].unique())\n",
        "        test_values = set(test[col].unique())\n",
        "\n",
        "        missing_in_train = test_values - train_values\n",
        "        missing_in_test = train_values - test_values\n",
        "\n",
        "        completeness_results[col] = {\n",
        "            'missing_in_train': missing_in_train,\n",
        "            'missing_in_test': missing_in_test\n",
        "        }\n",
        "\n",
        "    # Format the results for clearer presentation\n",
        "    formatted_results = []\n",
        "    for col, result in completeness_results.items():\n",
        "        formatted_results.append(f\"Result of completeness analysis for '{col}': \"\n",
        "                                  f\"Missing in train: {len(result['missing_in_train'])}, \"\n",
        "                                  f\"Missing in test: {len(result['missing_in_test'])}\")\n",
        "\n",
        "    return formatted_results\n",
        "\n",
        "completeness_results = check_completeness(merged_data, merged_data_test)\n",
        "for result in completeness_results:\n",
        "    print(result)"
      ],
      "metadata": {
        "colab": {
          "base_uri": "https://localhost:8080/"
        },
        "id": "t9iqCI9mrFk2",
        "outputId": "75430425-0e9f-4ee0-ac7f-a716f6b01832"
      },
      "execution_count": 11,
      "outputs": [
        {
          "output_type": "stream",
          "name": "stdout",
          "text": [
            "Result of completeness analysis for 'shop_id': Missing in train: 0, Missing in test: 18\n",
            "Result of completeness analysis for 'item_id': Missing in train: 363, Missing in test: 17070\n",
            "Result of completeness analysis for 'item_category_id': Missing in train: 0, Missing in test: 22\n",
            "Result of completeness analysis for 'shop_item_id': Missing in train: 102796, Missing in test: 312720\n"
          ]
        }
      ]
    },
    {
      "cell_type": "code",
      "source": [
        "# Let's select only the observations we need\n",
        "list_test = set(merged_data_test.shop_item_id)\n",
        "intersect_train = merged_data[merged_data.shop_item_id.isin(list_test)]\n",
        "mean_intersect_train = pd.DataFrame(intersect_train.groupby(['shop_item_id','date_block_num'])['date_block_num'].mean())\n",
        "mean_intersect_train.date_block_num.mean()"
      ],
      "metadata": {
        "colab": {
          "base_uri": "https://localhost:8080/"
        },
        "id": "zUjbd7aI3wdV",
        "outputId": "6df15177-5dbf-490f-c9d0-be4c7be9731d"
      },
      "execution_count": null,
      "outputs": [
        {
          "output_type": "execute_result",
          "data": {
            "text/plain": [
              "20.158762927824128"
            ]
          },
          "metadata": {},
          "execution_count": 11
        }
      ]
    },
    {
      "cell_type": "markdown",
      "source": [
        "# **Checking string predictors.**"
      ],
      "metadata": {
        "id": "h_qAMcq1b-gw"
      }
    },
    {
      "cell_type": "markdown",
      "source": [
        "A study of store names helped identify a system error - in four cases, store names differed by several characters, although they meant (let's say) the same object. Let's replace the shop_name and shop_id of these objects so that they merge into one shop_id, moreover, the one that is present in df_test"
      ],
      "metadata": {
        "id": "iBKFXkARlE4J"
      }
    },
    {
      "cell_type": "code",
      "source": [
        "print(merged_data.loc[merged_data['shop_id'] == 11,'shop_name'].iloc[0] + \" - \" + merged_data.loc[merged_data['shop_id'] == 10,'shop_name'].iloc[0])\n",
        "print(merged_data.loc[merged_data['shop_id'] == 0,'shop_name'].iloc[0] + \" - \" + merged_data.loc[merged_data['shop_id'] == 57,'shop_name'].iloc[0])\n",
        "print(merged_data.loc[merged_data['shop_id'] == 1,'shop_name'].iloc[0] + \" - \" + merged_data.loc[merged_data['shop_id'] == 58,'shop_name'].iloc[0])\n",
        "print(merged_data.loc[merged_data['shop_id'] == 40,'shop_name'].iloc[0] + \" - \" + merged_data.loc[merged_data['shop_id'] == 39,'shop_name'].iloc[0])"
      ],
      "metadata": {
        "colab": {
          "base_uri": "https://localhost:8080/"
        },
        "id": "o2L9XJ0bhY5R",
        "outputId": "ca41fc8f-6dda-448c-809a-e2a1a2b8cb5d"
      },
      "execution_count": 34,
      "outputs": [
        {
          "output_type": "stream",
          "name": "stdout",
          "text": [
            "Жуковский ул. Чкалова 39м² - Жуковский ул. Чкалова 39м?\n",
            "!Якутск Орджоникидзе, 56 фран - Якутск Орджоникидзе, 56\n",
            "!Якутск ТЦ \"Центральный\" фран - Якутск ТЦ \"Центральный\"\n",
            "РостовНаДону ТРК \"Мегацентр Горизонт\" Островной - РостовНаДону ТРК \"Мегацентр Горизонт\"\n"
          ]
        }
      ]
    },
    {
      "cell_type": "markdown",
      "source": [
        "Let's think that these are the same stores and replace our values ​​in train"
      ],
      "metadata": {
        "id": "h1ynnDAYlx7v"
      }
    },
    {
      "cell_type": "code",
      "source": [
        "df = merged_data.copy()\n",
        "df.loc[df['shop_id'] == 0, 'shop_id'] = 57\n",
        "df.loc[df['shop_id'] == 1, 'shop_id'] = 58\n",
        "df.loc[df['shop_id'] == 11, 'shop_id'] = 10\n",
        "df.loc[df['shop_id'] == 40, 'shop_id'] = 39"
      ],
      "metadata": {
        "id": "20jYN4KOly1m"
      },
      "execution_count": 117,
      "outputs": []
    },
    {
      "cell_type": "markdown",
      "source": [
        "\n",
        "The names do not need to be replaced, since we will delete them later, generating from it an additional sign based on the cleared word, which will be the same"
      ],
      "metadata": {
        "id": "GpzXgC1VnZUd"
      }
    },
    {
      "cell_type": "markdown",
      "source": [
        "# **Let's see if there are system outliers in the dataset**"
      ],
      "metadata": {
        "id": "rcClXKtzcImB"
      }
    },
    {
      "cell_type": "code",
      "source": [
        "sns.boxplot(y='item_cnt_day', data=merged_data)"
      ],
      "metadata": {
        "colab": {
          "base_uri": "https://localhost:8080/",
          "height": 428
        },
        "id": "FVdrkcK5c00v",
        "outputId": "853a0059-9886-41a2-e28a-0b991a4de60c"
      },
      "execution_count": 37,
      "outputs": [
        {
          "output_type": "execute_result",
          "data": {
            "text/plain": [
              "<Axes: ylabel='item_cnt_day'>"
            ]
          },
          "metadata": {},
          "execution_count": 37
        },
        {
          "output_type": "display_data",
          "data": {
            "text/plain": [
              "<Figure size 640x480 with 1 Axes>"
            ],
            "image/png": "[encoded data removed]"
          },
          "metadata": {}
        }
      ]
    },
    {
      "cell_type": "code",
      "source": [
        "sns.boxplot(y='item_price', data=df)"
      ],
      "metadata": {
        "colab": {
          "base_uri": "https://localhost:8080/",
          "height": 428
        },
        "id": "Ki6VsmHLzMZ5",
        "outputId": "9f7307a9-f62e-4837-d790-5fb031fdc666"
      },
      "execution_count": 73,
      "outputs": [
        {
          "output_type": "execute_result",
          "data": {
            "text/plain": [
              "<Axes: ylabel='item_price'>"
            ]
          },
          "metadata": {},
          "execution_count": 73
        },
        {
          "output_type": "display_data",
          "data": {
            "text/plain": [
              "<Figure size 640x480 with 1 Axes>"
            ],
            "image/png": "[encoded data removed]"
          },
          "metadata": {}
        }
      ]
    },
    {
      "cell_type": "code",
      "source": [
        "def top_10_items(df):\n",
        "    top_items = df.nlargest(10, 'item_cnt_day')\n",
        "    for index, row in top_items.iterrows():\n",
        "        item_name = row['item_name']\n",
        "        quantity = row['item_cnt_day']\n",
        "        mean_quantity = df[df['item_name'] == item_name]['item_cnt_day'].mean()\n",
        "        print(f\"Item name: {item_name}, Quantity: {quantity}, Mean quantity: {mean_quantity}\")\n",
        "\n",
        "# Пример использования функции\n",
        "top_10_items(df)"
      ],
      "metadata": {
        "colab": {
          "base_uri": "https://localhost:8080/"
        },
        "id": "SR1qlbPVtKaF",
        "outputId": "f0a7883b-1c28-4228-e1c5-eb7f5553eed0"
      },
      "execution_count": 65,
      "outputs": [
        {
          "output_type": "stream",
          "name": "stdout",
          "text": [
            "Item name: Доставка до пункта выдачи (Boxberry), Quantity: 2169, Mean quantity: 14.144396551724139\n",
            "Item name: Фирменный пакет майка 1С Интерес белый (34*42) 45 мкм, Quantity: 1000, Mean quantity: 5.987300574345884\n",
            "Item name: Билет \"ИгроМир 2015\" - 3 октября 2015 (сайт) [Цифровая версия], Quantity: 669, Mean quantity: 27.934426229508198\n",
            "Item name: Билет \"ИгроМир 2015\" - 3 октября 2015 (сайт) УПР [Цифровая версия], Quantity: 637, Mean quantity: 27.934426229508198\n",
            "Item name: Grand Theft Auto V [PC, русские субтитры], Quantity: 624, Mean quantity: 4.290144435004248\n",
            "Item name: Доставка до пункта выдачи (Boxberry), Quantity: 539, Mean quantity: 14.144396551724139\n",
            "Item name: Билет \"ИгроМир 2015\" - 3 октября 2015 (сайт) УПР [Цифровая версия], Quantity: 533, Mean quantity: 27.934426229508198\n",
            "Item name: Билет \"ИгроМир 2014\" (на один день (отдельно - 4, 5 октября 2014)), Quantity: 512, Mean quantity: 7.181102362204724\n",
            "Item name: Средиземье: Тени Мордора [PC, Цифровая версия], Quantity: 508, Mean quantity: 41.27272727272727\n",
            "Item name: Билет \"ИгроМир 2015\" - 3 октября 2015 (сайт) [Цифровая версия], Quantity: 504, Mean quantity: 27.934426229508198\n"
          ]
        }
      ]
    },
    {
      "cell_type": "markdown",
      "source": [
        "At the loading stage, let's consider as system emissions those positions for which the number of sales was more than 100 times the average sales value for this product, and let's consider as system emissions those positions for which price was more than 10 times the average price for this product"
      ],
      "metadata": {
        "id": "jmMo7wv2vB-f"
      }
    },
    {
      "cell_type": "code",
      "source": [
        "def remove_outliers(df):\n",
        "    # Рассчитываем среднее значение продаж и цены по каждому товару\n",
        "    mean_quantity_by_item = df.groupby('item_name')['item_cnt_day'].mean()\n",
        "    mean_price_by_item = df.groupby('item_name')['item_price'].mean()\n",
        "\n",
        "    # Фильтруем строки, где количество продаж или цена больше, чем в 100 раз среднее значение по соответствующему товару\n",
        "    outliers_quantity = df[df['item_cnt_day'] > 100 * df['item_name'].map(mean_quantity_by_item)]\n",
        "    outliers_price = df[df['item_price'] > 10 * df['item_name'].map(mean_price_by_item)]\n",
        "    # outliers_price1 = df[df['item_price'] < 100 * df['item_name'].map(mean_price_by_item)]\n",
        "\n",
        "    # Удаляем найденные выбросы из датасета\n",
        "    df = df.drop(outliers_quantity.index)\n",
        "    df = df.drop(outliers_price.index)\n",
        "    # df = df.drop(outliers_price1.index)\n",
        "\n",
        "    return df\n",
        "\n",
        "# Пример использования функции\n",
        "df_cleaned = remove_outliers(df)\n",
        "print(f'The number of observations after clearing emissions decreased by {len(df) - len(df_cleaned)}')"
      ],
      "metadata": {
        "colab": {
          "base_uri": "https://localhost:8080/"
        },
        "id": "5ZXdfgFJvbs_",
        "outputId": "f1310d9f-80a5-428f-8fc2-dd71548e60df"
      },
      "execution_count": 98,
      "outputs": [
        {
          "output_type": "stream",
          "name": "stdout",
          "text": [
            "The number of observations after clearing emissions decreased by 50\n"
          ]
        }
      ]
    },
    {
      "cell_type": "code",
      "source": [
        "#Let's find if there is such a position in the test before deleting\n",
        "max_item_id = df.loc[df['item_price'] == df['item_price'].nlargest(1).iloc[-1], 'item_id'].values[0]\n",
        "if max_item_id in df_test['item_id'].values:\n",
        "    print(\"Позиция с max_item_id найдена в столбце item_id.\")\n",
        "else:\n",
        "    print(\"Позиция с max_item_id не найдена в столбце item_id.\")"
      ],
      "metadata": {
        "colab": {
          "base_uri": "https://localhost:8080/"
        },
        "id": "zRTzDRKl5lT2",
        "outputId": "9d0594c9-63d9-4e0e-88d9-75514272c389"
      },
      "execution_count": 108,
      "outputs": [
        {
          "output_type": "stream",
          "name": "stdout",
          "text": [
            "Позиция с max_item_id найдена в столбце item_id.\n"
          ]
        }
      ]
    },
    {
      "cell_type": "code",
      "source": [
        "max_item_price = df.loc[df['item_price'] == df['item_price'].nlargest(1).iloc[-1], 'item_id'].values[0]\n",
        "df_cleaned = df_cleaned[df_cleaned['item_price'] != max_item_price]"
      ],
      "metadata": {
        "id": "Sn1iud3j62Z0"
      },
      "execution_count": 109,
      "outputs": []
    },
    {
      "cell_type": "code",
      "source": [
        "def remove_outliers(df):\n",
        "    \"\"\"\n",
        "    Removes outliers from the DataFrame based on item sales quantity and price.\n",
        "\n",
        "    Parameters:\n",
        "    - df: pandas.DataFrame, the DataFrame to clean.\n",
        "\n",
        "    Returns:\n",
        "    - df_cleaned: pandas.DataFrame, the cleaned DataFrame.\n",
        "    \"\"\"\n",
        "    # Calculate the mean quantity and price for each item\n",
        "    mean_quantity_by_item = df.groupby('item_name')['item_cnt_day'].mean()\n",
        "    mean_price_by_item = df.groupby('item_name')['item_price'].mean()\n",
        "\n",
        "    # Filter rows where the quantity or price exceeds 100 times the mean value for the respective item\n",
        "    outliers_quantity = df[df['item_cnt_day'] > 100 * df['item_name'].map(mean_quantity_by_item)]\n",
        "    outliers_price = df[df['item_price'] > 100 * df['item_name'].map(mean_price_by_item)]\n",
        "\n",
        "    # Find the item with the maximum price\n",
        "    max_price_item = df.loc[df['item_price'].idxmax(), 'item_name']\n",
        "\n",
        "    # Remove outliers and the item with the maximum price from the dataset\n",
        "    df_cleaned = df.drop(outliers_quantity.index)\n",
        "    df_cleaned = df_cleaned.drop(outliers_price.index)\n",
        "    df_cleaned = df_cleaned[df_cleaned['item_name'] != max_price_item]\n",
        "\n",
        "    return df_cleaned\n",
        "\n",
        "# Example usage of the function\n",
        "df_cleaned = remove_outliers(df)\n",
        "print(f'The number of observations after clearing outliers decreased by {len(df) - len(df_cleaned)}')\n"
      ],
      "metadata": {
        "colab": {
          "base_uri": "https://localhost:8080/"
        },
        "id": "kWH44Tum7mC7",
        "outputId": "4dfda682-d1fe-4f31-8689-8d7a0ce5d5e2"
      },
      "execution_count": 118,
      "outputs": [
        {
          "output_type": "stream",
          "name": "stdout",
          "text": [
            "The number of observations after clearing outliers decreased by 22\n"
          ]
        }
      ]
    },
    {
      "cell_type": "code",
      "source": [
        "sns.boxplot(y='item_price', data=df_cleaned)"
      ],
      "metadata": {
        "colab": {
          "base_uri": "https://localhost:8080/",
          "height": 428
        },
        "id": "jP-1j-Ben3CT",
        "outputId": "56196a5b-df5b-4441-c44c-70d169430142"
      },
      "execution_count": 119,
      "outputs": [
        {
          "output_type": "execute_result",
          "data": {
            "text/plain": [
              "<Axes: ylabel='item_price'>"
            ]
          },
          "metadata": {},
          "execution_count": 119
        },
        {
          "output_type": "display_data",
          "data": {
            "text/plain": [
              "<Figure size 640x480 with 1 Axes>"
            ],
            "image/png": "[encoded data removed]"
          },
          "metadata": {}
        }
      ]
    },
    {
      "cell_type": "code",
      "source": [
        "sns.boxplot(y='item_cnt_day', data=df_cleaned)"
      ],
      "metadata": {
        "colab": {
          "base_uri": "https://localhost:8080/",
          "height": 432
        },
        "id": "6JO1qoF73OrT",
        "outputId": "4d5cff7b-cf1b-474c-a7c3-68e3f36de89f"
      },
      "execution_count": 120,
      "outputs": [
        {
          "output_type": "execute_result",
          "data": {
            "text/plain": [
              "<Axes: ylabel='item_cnt_day'>"
            ]
          },
          "metadata": {},
          "execution_count": 120
        },
        {
          "output_type": "display_data",
          "data": {
            "text/plain": [
              "<Figure size 640x480 with 1 Axes>"
            ],
            "image/png": "[encoded data removed]"
          },
          "metadata": {}
        }
      ]
    },
    {
      "cell_type": "markdown",
      "source": [
        "\n",
        "# **CONCLUSIONS ABOUT THE COMPLETENESS OF THE TRAINING SET**\n",
        "**We are dealing with a very incomplete training set:**\n",
        "\n",
        "1. The training sample contains all the stores and product categories that are in the test, but it lacks observations for 363 product positions.\n",
        "\n",
        "2. The number of store-product couplings present in test, but absent in train: 102796, which is 33.0% of the number of observations. Moreover, according to the existing observations of store-product links, the average number of monthly data is 20, instead of 33.\n",
        "\n",
        "**How ​​much larger is the training set than the test set:**\n",
        "\n",
        "The number of excess magazines in the training set is 18.\n",
        "\n",
        "The number of excess products in the training set is 17070 items.\n",
        "\n",
        "The number of redundant product categories in the training set is 22.\n",
        "\n",
        "Number of elements present in train but not in test: 312720.\n",
        "\n",
        "3. The merged dataframe does not contain duplicates based on matching column values ​​['date', 'shop_id', 'item_id', 'item_price'], which means there is no need to delete duplicates.\n",
        "\n",
        "4. The data contains 4 duplicate store names; the shop_id of these stores needs to be replaced.\n",
        "\n",
        "5. The data contains system outliers and there is a need to remove from the data items for which the number of sales was more than 100 times the average sales value for this product, and for which price was more than 10 times the average price for this product. And it’s worth removing another position with the maximum price, because... it is a clear outlier and this position is not in the training set\n"
      ],
      "metadata": {
        "id": "TIge7W9s27Ag"
      }
    },
    {
      "cell_type": "markdown",
      "source": [
        "\n",
        "# **What the ELT process should look like based on the results of the DQC study:**\n",
        "1. Load the dataset, explicitly specifying the types.\n",
        "2. We combine all datasets into one dataset\n",
        "3. Changing duplicate store names\n",
        "3. We remove outliers that we have identified"
      ],
      "metadata": {
        "id": "jDaNUEX7-B5Y"
      }
    },
    {
      "cell_type": "code",
      "source": [
        "import pandas as pd\n",
        "\n",
        "class ELTclass:\n",
        "    def __init__(self, item_cat_path, items_path, shops_path, sales_train_path):\n",
        "        self.item_cat_path = item_cat_path\n",
        "        self.items_path = items_path\n",
        "        self.shops_path = shops_path\n",
        "        self.sales_train_path = sales_train_path\n",
        "\n",
        "    def read_data(self):\n",
        "        df_item_cat = pd.read_csv(self.item_cat_path, dtype={'item_category_name': 'str', 'item_category_id': 'int32'})\n",
        "        df_items = pd.read_csv(self.items_path, dtype={'item_name': 'str', 'item_id': 'int32', 'item_category_id': 'int32'})\n",
        "        df_shops = pd.read_csv(self.shops_path, dtype={'shop_name': 'str', 'shop_id': 'int32'})\n",
        "        sales_train = pd.read_csv(self.sales_train_path, parse_dates=['date'], dtype={'date': 'str', 'date_block_num': 'int32', 'shop_id': 'int32', 'item_id': 'int32', 'item_price': 'float32', 'item_cnt_day': 'int32'})\n",
        "        return df_item_cat, df_items, df_shops, sales_train\n",
        "\n",
        "    def get_merged_data(self):\n",
        "        df_item_cat, df_items, df_shops, sales_train = self.read_data()\n",
        "        merged_data = sales_train.copy()  # Create a copy of the original data to preserve it\n",
        "        # Define the common column for the first merge\n",
        "        common_column = None\n",
        "        # Iterate over each dataset\n",
        "        for df in [df_items, df_item_cat, df_shops]:\n",
        "            # Find the common column for merging\n",
        "            if common_column is None:\n",
        "                common_column = set(merged_data.columns) & set(df.columns)\n",
        "            else:\n",
        "                common_column = list(set(merged_data.columns) & set(df.columns))\n",
        "\n",
        "            # Perform left merge\n",
        "            merged_data = pd.merge(merged_data, df, on=list(common_column), how='left')\n",
        "            merged_data['date'] = pd.to_datetime(merged_data['date'], format='%d.%m.%Y')\n",
        "\n",
        "        return merged_data\n",
        "\n",
        "    def update_shop_ids(self, data):\n",
        "        \"\"\"\n",
        "        Update shop IDs in the DataFrame to adjust them to a specific mapping.\n",
        "\n",
        "        Parameters:\n",
        "        - data: pandas.DataFrame, the DataFrame containing the shop IDs to update.\n",
        "\n",
        "        Returns:\n",
        "        - updated_data: pandas.DataFrame, the DataFrame with updated shop IDs.\n",
        "        \"\"\"\n",
        "        updated_data = data.copy()\n",
        "        updated_data.loc[updated_data['shop_id'] == 0, 'shop_id'] = 57\n",
        "        updated_data.loc[updated_data['shop_id'] == 1, 'shop_id'] = 58\n",
        "        updated_data.loc[updated_data['shop_id'] == 11, 'shop_id'] = 10\n",
        "        updated_data.loc[updated_data['shop_id'] == 40, 'shop_id'] = 39\n",
        "\n",
        "        return updated_data\n",
        "\n",
        "    def remove_outliers(self, df):\n",
        "        \"\"\"\n",
        "        Removes outliers from the DataFrame based on item sales quantity and price.\n",
        "\n",
        "        Parameters:\n",
        "        - df: pandas.DataFrame, the DataFrame to clean.\n",
        "\n",
        "        Returns:\n",
        "        - df_cleaned: pandas.DataFrame, the cleaned DataFrame.\n",
        "        \"\"\"\n",
        "        # Calculate the mean quantity and price for each item\n",
        "        mean_quantity_by_item = df.groupby('item_name')['item_cnt_day'].mean()\n",
        "        mean_price_by_item = df.groupby('item_name')['item_price'].mean()\n",
        "\n",
        "        # Filter rows where the quantity or price exceeds 100 times the mean value for the respective item\n",
        "        outliers_quantity = df[df['item_cnt_day'] > 100 * df['item_name'].map(mean_quantity_by_item)]\n",
        "        outliers_price = df[df['item_price'] > 100 * df['item_name'].map(mean_price_by_item)]\n",
        "\n",
        "        # Find the item with the maximum price\n",
        "        max_price_item = df.loc[df['item_price'].idxmax(), 'item_name']\n",
        "\n",
        "        # Remove outliers and the item with the maximum price from the dataset\n",
        "        df_cleaned = df.drop(outliers_quantity.index)\n",
        "        df_cleaned = df_cleaned.drop(outliers_price.index)\n",
        "        df_cleaned = df_cleaned[df_cleaned['item_name'] != max_price_item]\n",
        "\n",
        "        return df_cleaned\n",
        "# Example usage of the class\n",
        "item_cat_path = '/content/drive/MyDrive/Predict Future Sales/item_categories.csv'\n",
        "items_path = '/content/drive/MyDrive/Predict Future Sales/items.csv'\n",
        "shops_path = '/content/drive/MyDrive/Predict Future Sales/shops.csv'\n",
        "sales_train_path = '/content/drive/MyDrive/Predict Future Sales/sales_train.csv'\n",
        "\n",
        "elt = ELTclass(item_cat_path=item_cat_path, items_path=items_path, shops_path=shops_path, sales_train_path=sales_train_path)\n",
        "# Get merged data\n",
        "merged_data = elt.get_merged_data()\n",
        "\n",
        "# # Update shop IDs\n",
        "updated_data = elt.update_shop_ids(merged_data)\n",
        "\n",
        "# # Removes outliers\n",
        "filtered_data = elt.remove_outliers(updated_data)\n",
        "\n",
        "filtered_data.shape"
      ],
      "metadata": {
        "colab": {
          "base_uri": "https://localhost:8080/",
          "height": 652
        },
        "id": "mKjN7cXoRAy2",
        "outputId": "449d6fcc-3b30-48b9-ac5d-fae3f657b658"
      },
      "execution_count": 140,
      "outputs": [
        {
          "output_type": "stream",
          "name": "stderr",
          "text": [
            "<ipython-input-140-5f1cfa1adb63>:14: UserWarning: Parsing dates in DD/MM/YYYY format when dayfirst=False (the default) was specified. This may lead to inconsistently parsed dates! Specify a format to ensure consistent parsing.\n",
            "  sales_train = pd.read_csv(self.sales_train_path, parse_dates=['date'], dtype={'date': 'str', 'date_block_num': 'int32', 'shop_id': 'int32', 'item_id': 'int32', 'item_price': 'float32', 'item_cnt_day': 'int32'})\n"
          ]
        },
        {
          "output_type": "execute_result",
          "data": {
            "text/plain": [
              "              date  date_block_num  shop_id  item_id  item_price  \\\n",
              "0       2013-02-01               0       59    22154      999.00   \n",
              "1       2013-03-01               0       25     2552      899.00   \n",
              "2       2013-05-01               0       25     2552      899.00   \n",
              "3       2013-06-01               0       25     2554     1709.05   \n",
              "4       2013-01-15               0       25     2555     1099.00   \n",
              "...            ...             ...      ...      ...         ...   \n",
              "2935844 2015-10-10              33       25     7409      299.00   \n",
              "2935845 2015-09-10              33       25     7460      299.00   \n",
              "2935846 2015-10-14              33       25     7459      349.00   \n",
              "2935847 2015-10-22              33       25     7440      299.00   \n",
              "2935848 2015-03-10              33       25     7460      299.00   \n",
              "\n",
              "         item_cnt_day                                          item_name  \\\n",
              "0                   1                                  ЯВЛЕНИЕ 2012 (BD)   \n",
              "1                   1           DEEP PURPLE  The House Of Blue Light  LP   \n",
              "2                  -1           DEEP PURPLE  The House Of Blue Light  LP   \n",
              "3                   1           DEEP PURPLE  Who Do You Think We Are  LP   \n",
              "4                   1            DEEP PURPLE 30 Very Best Of 2CD (Фирм.)   \n",
              "...               ...                                                ...   \n",
              "2935844             1                   V/A Nu Jazz Selection (digipack)   \n",
              "2935845             1             V/A The Golden Jazz Collection  1  2CD   \n",
              "2935846             1                       V/A The Best Of The 3 Tenors   \n",
              "2935847             1  V/A Relax Collection  Planet MP3 (mp3-CD) (jewel)   \n",
              "2935848             1             V/A The Golden Jazz Collection  1  2CD   \n",
              "\n",
              "         item_category_id                   item_category_name  \\\n",
              "0                      37                       Кино - Blu-Ray   \n",
              "1                      58                       Музыка - Винил   \n",
              "2                      58                       Музыка - Винил   \n",
              "3                      58                       Музыка - Винил   \n",
              "4                      56  Музыка - CD фирменного производства   \n",
              "...                   ...                                  ...   \n",
              "2935844                55  Музыка - CD локального производства   \n",
              "2935845                55  Музыка - CD локального производства   \n",
              "2935846                55  Музыка - CD локального производства   \n",
              "2935847                57                         Музыка - MP3   \n",
              "2935848                55  Музыка - CD локального производства   \n",
              "\n",
              "                      shop_name  \n",
              "0        Ярославль ТЦ \"Альтаир\"  \n",
              "1           Москва ТРК \"Атриум\"  \n",
              "2           Москва ТРК \"Атриум\"  \n",
              "3           Москва ТРК \"Атриум\"  \n",
              "4           Москва ТРК \"Атриум\"  \n",
              "...                         ...  \n",
              "2935844     Москва ТРК \"Атриум\"  \n",
              "2935845     Москва ТРК \"Атриум\"  \n",
              "2935846     Москва ТРК \"Атриум\"  \n",
              "2935847     Москва ТРК \"Атриум\"  \n",
              "2935848     Москва ТРК \"Атриум\"  \n",
              "\n",
              "[2935827 rows x 10 columns]"
            ],
            "text/html": [
              "\n",
              "  <div id=\"df-fb9f9165-2494-4231-a257-1932248a177c\" class=\"colab-df-container\">\n",
              "    <div>\n",
              "<style scoped>\n",
              "    .dataframe tbody tr th:only-of-type {\n",
              "        vertical-align: middle;\n",
              "    }\n",
              "\n",
              "    .dataframe tbody tr th {\n",
              "        vertical-align: top;\n",
              "    }\n",
              "\n",
              "    .dataframe thead th {\n",
              "        text-align: right;\n",
              "    }\n",
              "</style>\n",
              "<table border=\"1\" class=\"dataframe\">\n",
              "  <thead>\n",
              "    <tr style=\"text-align: right;\">\n",
              "      <th></th>\n",
              "      <th>date</th>\n",
              "      <th>date_block_num</th>\n",
              "      <th>shop_id</th>\n",
              "      <th>item_id</th>\n",
              "      <th>item_price</th>\n",
              "      <th>item_cnt_day</th>\n",
              "      <th>item_name</th>\n",
              "      <th>item_category_id</th>\n",
              "      <th>item_category_name</th>\n",
              "      <th>shop_name</th>\n",
              "    </tr>\n",
              "  </thead>\n",
              "  <tbody>\n",
              "    <tr>\n",
              "      <th>0</th>\n",
              "      <td>2013-02-01</td>\n",
              "      <td>0</td>\n",
              "      <td>59</td>\n",
              "      <td>22154</td>\n",
              "      <td>999.00</td>\n",
              "      <td>1</td>\n",
              "      <td>ЯВЛЕНИЕ 2012 (BD)</td>\n",
              "      <td>37</td>\n",
              "      <td>Кино - Blu-Ray</td>\n",
              "      <td>Ярославль ТЦ \"Альтаир\"</td>\n",
              "    </tr>\n",
              "    <tr>\n",
              "      <th>1</th>\n",
              "      <td>2013-03-01</td>\n",
              "      <td>0</td>\n",
              "      <td>25</td>\n",
              "      <td>2552</td>\n",
              "      <td>899.00</td>\n",
              "      <td>1</td>\n",
              "      <td>DEEP PURPLE  The House Of Blue Light  LP</td>\n",
              "      <td>58</td>\n",
              "      <td>Музыка - Винил</td>\n",
              "      <td>Москва ТРК \"Атриум\"</td>\n",
              "    </tr>\n",
              "    <tr>\n",
              "      <th>2</th>\n",
              "      <td>2013-05-01</td>\n",
              "      <td>0</td>\n",
              "      <td>25</td>\n",
              "      <td>2552</td>\n",
              "      <td>899.00</td>\n",
              "      <td>-1</td>\n",
              "      <td>DEEP PURPLE  The House Of Blue Light  LP</td>\n",
              "      <td>58</td>\n",
              "      <td>Музыка - Винил</td>\n",
              "      <td>Москва ТРК \"Атриум\"</td>\n",
              "    </tr>\n",
              "    <tr>\n",
              "      <th>3</th>\n",
              "      <td>2013-06-01</td>\n",
              "      <td>0</td>\n",
              "      <td>25</td>\n",
              "      <td>2554</td>\n",
              "      <td>1709.05</td>\n",
              "      <td>1</td>\n",
              "      <td>DEEP PURPLE  Who Do You Think We Are  LP</td>\n",
              "      <td>58</td>\n",
              "      <td>Музыка - Винил</td>\n",
              "      <td>Москва ТРК \"Атриум\"</td>\n",
              "    </tr>\n",
              "    <tr>\n",
              "      <th>4</th>\n",
              "      <td>2013-01-15</td>\n",
              "      <td>0</td>\n",
              "      <td>25</td>\n",
              "      <td>2555</td>\n",
              "      <td>1099.00</td>\n",
              "      <td>1</td>\n",
              "      <td>DEEP PURPLE 30 Very Best Of 2CD (Фирм.)</td>\n",
              "      <td>56</td>\n",
              "      <td>Музыка - CD фирменного производства</td>\n",
              "      <td>Москва ТРК \"Атриум\"</td>\n",
              "    </tr>\n",
              "    <tr>\n",
              "      <th>...</th>\n",
              "      <td>...</td>\n",
              "      <td>...</td>\n",
              "      <td>...</td>\n",
              "      <td>...</td>\n",
              "      <td>...</td>\n",
              "      <td>...</td>\n",
              "      <td>...</td>\n",
              "      <td>...</td>\n",
              "      <td>...</td>\n",
              "      <td>...</td>\n",
              "    </tr>\n",
              "    <tr>\n",
              "      <th>2935844</th>\n",
              "      <td>2015-10-10</td>\n",
              "      <td>33</td>\n",
              "      <td>25</td>\n",
              "      <td>7409</td>\n",
              "      <td>299.00</td>\n",
              "      <td>1</td>\n",
              "      <td>V/A Nu Jazz Selection (digipack)</td>\n",
              "      <td>55</td>\n",
              "      <td>Музыка - CD локального производства</td>\n",
              "      <td>Москва ТРК \"Атриум\"</td>\n",
              "    </tr>\n",
              "    <tr>\n",
              "      <th>2935845</th>\n",
              "      <td>2015-09-10</td>\n",
              "      <td>33</td>\n",
              "      <td>25</td>\n",
              "      <td>7460</td>\n",
              "      <td>299.00</td>\n",
              "      <td>1</td>\n",
              "      <td>V/A The Golden Jazz Collection  1  2CD</td>\n",
              "      <td>55</td>\n",
              "      <td>Музыка - CD локального производства</td>\n",
              "      <td>Москва ТРК \"Атриум\"</td>\n",
              "    </tr>\n",
              "    <tr>\n",
              "      <th>2935846</th>\n",
              "      <td>2015-10-14</td>\n",
              "      <td>33</td>\n",
              "      <td>25</td>\n",
              "      <td>7459</td>\n",
              "      <td>349.00</td>\n",
              "      <td>1</td>\n",
              "      <td>V/A The Best Of The 3 Tenors</td>\n",
              "      <td>55</td>\n",
              "      <td>Музыка - CD локального производства</td>\n",
              "      <td>Москва ТРК \"Атриум\"</td>\n",
              "    </tr>\n",
              "    <tr>\n",
              "      <th>2935847</th>\n",
              "      <td>2015-10-22</td>\n",
              "      <td>33</td>\n",
              "      <td>25</td>\n",
              "      <td>7440</td>\n",
              "      <td>299.00</td>\n",
              "      <td>1</td>\n",
              "      <td>V/A Relax Collection  Planet MP3 (mp3-CD) (jewel)</td>\n",
              "      <td>57</td>\n",
              "      <td>Музыка - MP3</td>\n",
              "      <td>Москва ТРК \"Атриум\"</td>\n",
              "    </tr>\n",
              "    <tr>\n",
              "      <th>2935848</th>\n",
              "      <td>2015-03-10</td>\n",
              "      <td>33</td>\n",
              "      <td>25</td>\n",
              "      <td>7460</td>\n",
              "      <td>299.00</td>\n",
              "      <td>1</td>\n",
              "      <td>V/A The Golden Jazz Collection  1  2CD</td>\n",
              "      <td>55</td>\n",
              "      <td>Музыка - CD локального производства</td>\n",
              "      <td>Москва ТРК \"Атриум\"</td>\n",
              "    </tr>\n",
              "  </tbody>\n",
              "</table>\n",
              "<p>2935827 rows × 10 columns</p>\n",
              "</div>\n",
              "    <div class=\"colab-df-buttons\">\n",
              "\n",
              "  <div class=\"colab-df-container\">\n",
              "    <button class=\"colab-df-convert\" onclick=\"convertToInteractive('df-fb9f9165-2494-4231-a257-1932248a177c')\"\n",
              "            title=\"Convert this dataframe to an interactive table.\"\n",
              "            style=\"display:none;\">\n",
              "\n",
              "  <svg xmlns=\"http://www.w3.org/2000/svg\" height=\"24px\" viewBox=\"0 -960 960 960\">\n",
              "    <path d=\"M120-120v-720h720v720H120Zm60-500h600v-160H180v160Zm220 220h160v-160H400v160Zm0 220h160v-160H400v160ZM180-400h160v-160H180v160Zm440 0h160v-160H620v160ZM180-180h160v-160H180v160Zm440 0h160v-160H620v160Z\"/>\n",
              "  </svg>\n",
              "    </button>\n",
              "\n",
              "  <style>\n",
              "    .colab-df-container {\n",
              "      display:flex;\n",
              "      gap: 12px;\n",
              "    }\n",
              "\n",
              "    .colab-df-convert {\n",
              "      background-color: #E8F0FE;\n",
              "      border: none;\n",
              "      border-radius: 50%;\n",
              "      cursor: pointer;\n",
              "      display: none;\n",
              "      fill: #1967D2;\n",
              "      height: 32px;\n",
              "      padding: 0 0 0 0;\n",
              "      width: 32px;\n",
              "    }\n",
              "\n",
              "    .colab-df-convert:hover {\n",
              "      background-color: #E2EBFA;\n",
              "      box-shadow: 0px 1px 2px rgba(60, 64, 67, 0.3), 0px 1px 3px 1px rgba(60, 64, 67, 0.15);\n",
              "      fill: #174EA6;\n",
              "    }\n",
              "\n",
              "    .colab-df-buttons div {\n",
              "      margin-bottom: 4px;\n",
              "    }\n",
              "\n",
              "    [theme=dark] .colab-df-convert {\n",
              "      background-color: #3B4455;\n",
              "      fill: #D2E3FC;\n",
              "    }\n",
              "\n",
              "    [theme=dark] .colab-df-convert:hover {\n",
              "      background-color: #434B5C;\n",
              "      box-shadow: 0px 1px 3px 1px rgba(0, 0, 0, 0.15);\n",
              "      filter: drop-shadow(0px 1px 2px rgba(0, 0, 0, 0.3));\n",
              "      fill: #FFFFFF;\n",
              "    }\n",
              "  </style>\n",
              "\n",
              "    <script>\n",
              "      const buttonEl =\n",
              "        document.querySelector('#df-fb9f9165-2494-4231-a257-1932248a177c button.colab-df-convert');\n",
              "      buttonEl.style.display =\n",
              "        google.colab.kernel.accessAllowed ? 'block' : 'none';\n",
              "\n",
              "      async function convertToInteractive(key) {\n",
              "        const element = document.querySelector('#df-fb9f9165-2494-4231-a257-1932248a177c');\n",
              "        const dataTable =\n",
              "          await google.colab.kernel.invokeFunction('convertToInteractive',\n",
              "                                                    [key], {});\n",
              "        if (!dataTable) return;\n",
              "\n",
              "        const docLinkHtml = 'Like what you see? Visit the ' +\n",
              "          '<a target=\"_blank\" href=https://colab.research.google.com/notebooks/data_table.ipynb>data table notebook</a>'\n",
              "          + ' to learn more about interactive tables.';\n",
              "        element.innerHTML = '';\n",
              "        dataTable['output_type'] = 'display_data';\n",
              "        await google.colab.output.renderOutput(dataTable, element);\n",
              "        const docLink = document.createElement('div');\n",
              "        docLink.innerHTML = docLinkHtml;\n",
              "        element.appendChild(docLink);\n",
              "      }\n",
              "    </script>\n",
              "  </div>\n",
              "\n",
              "\n",
              "<div id=\"df-8ad4ad7b-88fc-4d22-b774-55cb30543c67\">\n",
              "  <button class=\"colab-df-quickchart\" onclick=\"quickchart('df-8ad4ad7b-88fc-4d22-b774-55cb30543c67')\"\n",
              "            title=\"Suggest charts\"\n",
              "            style=\"display:none;\">\n",
              "\n",
              "<svg xmlns=\"http://www.w3.org/2000/svg\" height=\"24px\"viewBox=\"0 0 24 24\"\n",
              "     width=\"24px\">\n",
              "    <g>\n",
              "        <path d=\"M19 3H5c-1.1 0-2 .9-2 2v14c0 1.1.9 2 2 2h14c1.1 0 2-.9 2-2V5c0-1.1-.9-2-2-2zM9 17H7v-7h2v7zm4 0h-2V7h2v10zm4 0h-2v-4h2v4z\"/>\n",
              "    </g>\n",
              "</svg>\n",
              "  </button>\n",
              "\n",
              "<style>\n",
              "  .colab-df-quickchart {\n",
              "      --bg-color: #E8F0FE;\n",
              "      --fill-color: #1967D2;\n",
              "      --hover-bg-color: #E2EBFA;\n",
              "      --hover-fill-color: #174EA6;\n",
              "      --disabled-fill-color: #AAA;\n",
              "      --disabled-bg-color: #DDD;\n",
              "  }\n",
              "\n",
              "  [theme=dark] .colab-df-quickchart {\n",
              "      --bg-color: #3B4455;\n",
              "      --fill-color: #D2E3FC;\n",
              "      --hover-bg-color: #434B5C;\n",
              "      --hover-fill-color: #FFFFFF;\n",
              "      --disabled-bg-color: #3B4455;\n",
              "      --disabled-fill-color: #666;\n",
              "  }\n",
              "\n",
              "  .colab-df-quickchart {\n",
              "    background-color: var(--bg-color);\n",
              "    border: none;\n",
              "    border-radius: 50%;\n",
              "    cursor: pointer;\n",
              "    display: none;\n",
              "    fill: var(--fill-color);\n",
              "    height: 32px;\n",
              "    padding: 0;\n",
              "    width: 32px;\n",
              "  }\n",
              "\n",
              "  .colab-df-quickchart:hover {\n",
              "    background-color: var(--hover-bg-color);\n",
              "    box-shadow: 0 1px 2px rgba(60, 64, 67, 0.3), 0 1px 3px 1px rgba(60, 64, 67, 0.15);\n",
              "    fill: var(--button-hover-fill-color);\n",
              "  }\n",
              "\n",
              "  .colab-df-quickchart-complete:disabled,\n",
              "  .colab-df-quickchart-complete:disabled:hover {\n",
              "    background-color: var(--disabled-bg-color);\n",
              "    fill: var(--disabled-fill-color);\n",
              "    box-shadow: none;\n",
              "  }\n",
              "\n",
              "  .colab-df-spinner {\n",
              "    border: 2px solid var(--fill-color);\n",
              "    border-color: transparent;\n",
              "    border-bottom-color: var(--fill-color);\n",
              "    animation:\n",
              "      spin 1s steps(1) infinite;\n",
              "  }\n",
              "\n",
              "  @keyframes spin {\n",
              "    0% {\n",
              "      border-color: transparent;\n",
              "      border-bottom-color: var(--fill-color);\n",
              "      border-left-color: var(--fill-color);\n",
              "    }\n",
              "    20% {\n",
              "      border-color: transparent;\n",
              "      border-left-color: var(--fill-color);\n",
              "      border-top-color: var(--fill-color);\n",
              "    }\n",
              "    30% {\n",
              "      border-color: transparent;\n",
              "      border-left-color: var(--fill-color);\n",
              "      border-top-color: var(--fill-color);\n",
              "      border-right-color: var(--fill-color);\n",
              "    }\n",
              "    40% {\n",
              "      border-color: transparent;\n",
              "      border-right-color: var(--fill-color);\n",
              "      border-top-color: var(--fill-color);\n",
              "    }\n",
              "    60% {\n",
              "      border-color: transparent;\n",
              "      border-right-color: var(--fill-color);\n",
              "    }\n",
              "    80% {\n",
              "      border-color: transparent;\n",
              "      border-right-color: var(--fill-color);\n",
              "      border-bottom-color: var(--fill-color);\n",
              "    }\n",
              "    90% {\n",
              "      border-color: transparent;\n",
              "      border-bottom-color: var(--fill-color);\n",
              "    }\n",
              "  }\n",
              "</style>\n",
              "\n",
              "  <script>\n",
              "    async function quickchart(key) {\n",
              "      const quickchartButtonEl =\n",
              "        document.querySelector('#' + key + ' button');\n",
              "      quickchartButtonEl.disabled = true;  // To prevent multiple clicks.\n",
              "      quickchartButtonEl.classList.add('colab-df-spinner');\n",
              "      try {\n",
              "        const charts = await google.colab.kernel.invokeFunction(\n",
              "            'suggestCharts', [key], {});\n",
              "      } catch (error) {\n",
              "        console.error('Error during call to suggestCharts:', error);\n",
              "      }\n",
              "      quickchartButtonEl.classList.remove('colab-df-spinner');\n",
              "      quickchartButtonEl.classList.add('colab-df-quickchart-complete');\n",
              "    }\n",
              "    (() => {\n",
              "      let quickchartButtonEl =\n",
              "        document.querySelector('#df-8ad4ad7b-88fc-4d22-b774-55cb30543c67 button');\n",
              "      quickchartButtonEl.style.display =\n",
              "        google.colab.kernel.accessAllowed ? 'block' : 'none';\n",
              "    })();\n",
              "  </script>\n",
              "</div>\n",
              "    </div>\n",
              "  </div>\n"
            ],
            "application/vnd.google.colaboratory.intrinsic+json": {
              "type": "dataframe",
              "variable_name": "filtered_data"
            }
          },
          "metadata": {},
          "execution_count": 140
        }
      ]
    },
    {
      "cell_type": "code",
      "source": [
        "filtered_data.shape"
      ],
      "metadata": {
        "colab": {
          "base_uri": "https://localhost:8080/"
        },
        "id": "UtR6BnoqKY6O",
        "outputId": "a84c1f15-ec21-4291-81c9-98f020010a80"
      },
      "execution_count": 141,
      "outputs": [
        {
          "output_type": "execute_result",
          "data": {
            "text/plain": [
              "(2935827, 10)"
            ]
          },
          "metadata": {},
          "execution_count": 141
        }
      ]
    }
  ]
}